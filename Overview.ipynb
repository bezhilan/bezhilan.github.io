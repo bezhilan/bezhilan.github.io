{
 "cells": [
  {
   "cell_type": "markdown",
   "metadata": {},
   "source": [
    "<img src = 'workflow/SC_LOGO-1.png'>"
   ]
  },
  {
   "cell_type": "markdown",
   "metadata": {},
   "source": [
    "# ClickInsight : Increasing clicks on Facebook news posts\n",
    "## Barath Ezhilan, Insight Data Science Fellow\n",
    "## Project Overview\n"
   ]
  },
  {
   "cell_type": "markdown",
   "metadata": {},
   "source": [
    "This is a consulting project done in collaboration with [Seachange/Timeline](http://www.schange.com/solutions-products/products/timeline) which is a social analytics platform helping media companies analyse social sentiment, drive content marketing and surface relevant conversation.\n",
    "\n",
    "<img src=\"workflow/intro.png\">\n",
    "\n",
    "Predicting success metrics on social media can be highly challenging. The figure above shows two news posts on a local news station's Facebook page on seeming similar topics (sensational crime stories) but they drive significantly different number of clicks.\n",
    "\n",
    "Our clients are local news stations who are interested in increasing engagement on their Facebook posts. The primary goal of this project is to develop an algorithm capable of predicting whether a post will have high or low engagement/consumption based on their content. Such a predictive algorithm can greatly help these news stations preselect articles for their facebook feed and tune the content of their status message to better engage their audience on facebook and increase the number of clicks to their website.\n",
    "\n"
   ]
  },
  {
   "cell_type": "markdown",
   "metadata": {},
   "source": [
    "# Questions"
   ]
  },
  {
   "cell_type": "markdown",
   "metadata": {},
   "source": [
    "To accomplish this goal, we had to answer several key questions.\n",
    "\n",
    "- **success metrics**\n",
    "    - What are the suitable success metrics for quantifying engagement and consumption on Facebook?\n",
    "- **Topic clustering**\n",
    "    - Can we classify facebook posts into different topics just based on the content of their messages?\n",
    "- **Predictive modeling**\n",
    "    - Can we predict the degree of engagement or consumption just from on the content of their messages?\n",
    "- **Actionable business insights**\n",
    "    - Can we draw crucial business insights that can increase engagement / consumption / revenue for the new stations?"
   ]
  },
  {
   "cell_type": "markdown",
   "metadata": {},
   "source": [
    "# Metrics"
   ]
  },
  {
   "cell_type": "markdown",
   "metadata": {},
   "source": [
    "Before we can build a predictive model, it is important to be able to define a success metric for Facebook news posts. While thinking about a success metric, it is crucial to distinguish between qualitative and quantitative metrics.\n",
    "\n",
    "- Engagement: Qualitative measure describing how users engage with content. In this work, we define it as the sum of likes, shares and comments on a post. These engagements creates 'stories' about the post.\n",
    "\n",
    "- Consumption: Quantitative measure describing how users consume posts. In this work, we define it as the number of link clicks which directly correlates with revenue for the company\n",
    "\n",
    "We also consider both engagement and link clicks normalized by 'reach' (which is the total number of people the post was shared to)\n",
    "\n",
    "- Engagement to reach ratio\n",
    "- link clicks to reach ratio\n",
    "\n",
    "These metrics have a high correlation as can be seen in the figure below. (For a more detailed analysis, please see [Feature Analysis](Code/EDA/feature_analysis.html))\n",
    "\n",
    "<img src=\"code/EDA/response_.png\">\n",
    "\n",
    "The exploratory data analysis and predictive modeling of either of 4 response variables lead to similar insights / results. \n",
    "\n",
    "See individual pages dedicated to the analysis of each of these metrics in the links below\n",
    "\n",
    "- [Link Clicks](Code/EDA/EDA_clicks.html)\n",
    "- [Link Clicks to reach](Code/EDA/EDA_clicks_to_reach.html)\n",
    "- [Engagement](Code/EDA/EDA_engagement.html)\n",
    "- [Engagement to reach](Code/EDA/EDA_engagement_to_reach.html)\n",
    "\n",
    "In the discussion below, we focus on one of the metrics: number of link clicks. The number of clicks on posts over the last year have a median value of 1297, with values ranging from 0 to 472618"
   ]
  },
  {
   "cell_type": "markdown",
   "metadata": {},
   "source": [
    "# Workflow"
   ]
  },
  {
   "cell_type": "markdown",
   "metadata": {},
   "source": [
    "The overall workflow of this project is described in this flow chart.\n",
    "\n",
    "\n",
    "<img src=\"workflow/workflow_.png\">"
   ]
  },
  {
   "cell_type": "markdown",
   "metadata": {},
   "source": [
    "# Data"
   ]
  },
  {
   "cell_type": "markdown",
   "metadata": {},
   "source": [
    "To tackle this problem, we used the facebook insights data consisting of all posts (~ 8000) made by one New York based news station over the last 12 months. The data contains the following features\n",
    "\n",
    "- Time posted\n",
    "- Full text of the status message\n",
    "- Lifetime engagement, reach and post consumption for each post\n",
    "\n",
    "## Cleaning\n",
    "\n",
    "(Also see [data_cleaning.py](Code/data_cleaning.py))\n",
    "\n",
    "The facebook insights data for each post is available as a JSON file. \n",
    "\n",
    "- Import the JSON files in Python \n",
    "- Clean and store the data in a more convenient Pandas DataFrame\n",
    "- Remove paid posts and posts with reach less than 100\n",
    "- Store in a CSV file"
   ]
  },
  {
   "cell_type": "markdown",
   "metadata": {
    "collapsed": true
   },
   "source": [
    "# Feature Engineering and Exploratory Data Analysis"
   ]
  },
  {
   "cell_type": "markdown",
   "metadata": {},
   "source": [
    "We performed feature engineering to identify predictors for our model. We found several features could be important. \n",
    "\n",
    "- Time features (see [time_feature_extraction.py](Code/time_feature_extraction.py))\n",
    "   - Day of week\n",
    "   - Hour of day\n",
    "   - Month and Year\n",
    "- Deeper text analysis: (see [NLP_text_feature_extraction.py](Code/NLP_text_feature_extraction.py))\n",
    "   - post length\n",
    "   - Number of all caps words at the start of the message\n",
    "   - Keywords (see [keyword_extraction.py](Code/keyword_extraction.py))\n",
    "       - Number\n",
    "       - Video\n",
    "       - words relating to virality ('viral', 'breaking' etc.)\n",
    "       - relating to women, sex, politics, crime\n",
    "- **topic**\n",
    "    - See next section on topic clustering\n",
    "\n",
    "Most of the above features are straight forward to obtain from our data (after some NLP i.e., remove stopwords, perform stemming ...). However there is one important feature, the topic of the post, that is not readily accessible in the data. So, we use an unsupervised learning methods called the Latent Dirichlet Allocation algorithm for topic clustering. (See next section)\n",
    "\n",
    "## Data Stories\n",
    "\n",
    "An exploratory data analysis of the features reveal several interesting data stories. An elaborate analysis can be found  [here](Code/EDA/EDA_clicks.html). Here we include a few interesting stories\n",
    "\n",
    "### Time\n",
    "\n",
    "<img src = 'workflow/time.png'>\n",
    "\n",
    "### Post Length and ALL CAPS\n",
    "\n",
    "<img src = 'workflow/text.png'>\n",
    "\n",
    "### Keywords\n",
    "\n",
    "- More words relating to women, sex, video increases clicks\n",
    "- Politics related keywords decrease clicks\n",
    "\n",
    "<img src = 'workflow/keywords.png'>"
   ]
  },
  {
   "cell_type": "markdown",
   "metadata": {},
   "source": [
    "# Interlude: Topic Clustering using Latent Dirichlet Allocation algorithm"
   ]
  },
  {
   "cell_type": "markdown",
   "metadata": {},
   "source": [
    "We performed topic clustering using the Latent Dirichlet Allocation algorithm ([Blei et al. (2003)](https://www.cs.princeton.edu/~blei/papers/BleiNgJordan2003.pdf)) using the gensim package (Please see [LDA_topic_model.py]('Code/LDA_topic_model.py') for a walk through LDA in python)\n",
    "\n",
    "LDA is a generative probabilistic model that posits each topic as a distribution over words in a fixed dictionary. Or in other words, every topic has a probability for every word drawn from Dirichlet distribution. \n",
    "\n",
    "The topic distributions over words can also be seen from the interactive visualization below."
   ]
  },
  {
   "cell_type": "code",
   "execution_count": 1,
   "metadata": {
    "collapsed": false
   },
   "outputs": [
    {
     "data": {
      "text/html": [
       "\n",
       "        <iframe\n",
       "            width=\"1200\"\n",
       "            height=\"750\"\n",
       "            src=\"Code/LDAresults/topics_LDA.html\"\n",
       "            frameborder=\"0\"\n",
       "            allowfullscreen\n",
       "        ></iframe>\n",
       "        "
      ],
      "text/plain": [
       "<IPython.lib.display.IFrame at 0x104480350>"
      ]
     },
     "execution_count": 1,
     "metadata": {},
     "output_type": "execute_result"
    }
   ],
   "source": [
    "from IPython.display import IFrame\n",
    "IFrame('Code/LDAresults/topics_LDA.html', width=1200, height=750)"
   ]
  },
  {
   "cell_type": "markdown",
   "metadata": {},
   "source": [
    "Each post is considered to be a mixture of topics. Thus, each post has a weight for each topic. By looking at the posts having the highest weights for a given topic, we can identify the topics\n",
    "\n",
    "- topic1 : Violence / women\n",
    "- topic2 : Local news (Brooklyn / New Jersey) \n",
    "- ...\n",
    "\n",
    "For instance, for the story about Brooklyn girl beaten up by 4 teens, the model rightly gives higher weights for topic1 and topic2\n",
    "\n",
    "<img src=\"workflow/topic_mix.png\">"
   ]
  },
  {
   "cell_type": "markdown",
   "metadata": {},
   "source": [
    "## Mean Weighted click score \n",
    "\n",
    "Let each topic $i$ has a particular weight $w_{ij}$ for each post $j$\n",
    "\n",
    "We get the mean weighted click score for each topic using the formula\n",
    "\n",
    "$Score(topic\\, i) = \\frac{1}{TotalPosts}\\Sigma_{j = 1}^{TotalPosts} w_{ij} \\times number of clicks(j)$ \n",
    "\n",
    "<img src=\"code/EDA/weighted_click_score.png\">\n",
    "\n",
    "Clearly, violence/women/local news (topic1 and topic2) have higher click scores than other stories"
   ]
  },
  {
   "cell_type": "markdown",
   "metadata": {},
   "source": [
    "# Predictive model : Random Forest Classifier\n",
    "\n",
    "Now that, we have labeled each post with a topic, we have all the ingredients necessary to classify posts into low and high number of clicks based on a median split. \n",
    "\n",
    "We find that several significant correlations exist between topics, keywords and word_count. We will keep these correlations in mind when we get to the predictive model!\n",
    "\n",
    "<img src=\"code/EDA/predictor_correlation.png\">\n",
    "\n",
    "We perform the classification using a Random Forest Classifier. For a detailed analysis of the accuracy, precision metrics, please see [Random Forest Ipython notebook](Code/RandomForest/RandomForest_clicks.html).\n",
    "\n",
    "We build 3 different models using 3 different set of features\n",
    "- Model 1: (almost) all features\n",
    "  - time features + Keywords (video, sex, number) + text features (word count, ALLCAPS) + topics\n",
    "- Model 2: All but time features\n",
    "  - Keywords (video, sex, number) + text features (word count, ALLCAPS) + topics\n",
    "- Model 3: Only topics\n",
    "\n",
    "<img src=\"Code/RandomForest/ROC.png\">\n",
    "Above is a ROC curve comparing the performance of the 3 models. All 3 models perform significantly better than random. Interestingly, we also find that, model 3 with just the topic features has a AUC of 0.65, showing that topic of the post is a significant predictor of post consumption\n",
    "\n",
    "NOTE: We also performed modeling using Naive Bayes and logistic regression and their performance is competitive to random forests"
   ]
  },
  {
   "cell_type": "markdown",
   "metadata": {},
   "source": [
    "# Actionable Business Insights\n",
    "\n",
    "<img src=\"workflow/Insights.png\">"
   ]
  },
  {
   "cell_type": "markdown",
   "metadata": {},
   "source": [
    "# Summary of work accomplished over the last 3 weeks\n",
    "\n",
    "### - Engineered features that affect engagement and consumption on Facebook news posts\n",
    "### - Identified 4 metrics for quantifying 'success' for these posts\n",
    "### - Performed topic clustering using Latent Dirichlet Allocation\n",
    "### - Built a Random Forest model to classify posts between high and low post clicks\n",
    "### - Provided actionable insights that will help the news station better engage with their audience"
   ]
  }
 ],
 "metadata": {
  "kernelspec": {
   "display_name": "Python 2",
   "language": "python",
   "name": "python2"
  },
  "language_info": {
   "codemirror_mode": {
    "name": "ipython",
    "version": 2
   },
   "file_extension": ".py",
   "mimetype": "text/x-python",
   "name": "python",
   "nbconvert_exporter": "python",
   "pygments_lexer": "ipython2",
   "version": "2.7.10"
  }
 },
 "nbformat": 4,
 "nbformat_minor": 0
}
