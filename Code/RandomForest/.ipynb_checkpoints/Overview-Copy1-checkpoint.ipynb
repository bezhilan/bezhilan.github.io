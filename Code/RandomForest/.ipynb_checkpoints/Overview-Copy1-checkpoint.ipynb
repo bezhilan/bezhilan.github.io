{
 "cells": [
  {
   "cell_type": "markdown",
   "metadata": {},
   "source": [
    "# ClickInsight : Increasing clicks on Facebook News Posts\n",
    "## Barath Ezhilan, Insight Data Science Fellow\n",
    "## Project Overview"
   ]
  },
  {
   "cell_type": "markdown",
   "metadata": {},
   "source": [
    "This is a consulting project done in colloboration with [Seachange/Timeline](http://www.schange.com/solutions-products/products/timeline) which is a social analytics platform helping media companies analyse social sentiment, drive content marketing and surface relevant conversation.\n",
    "\n",
    "Our clients are local news stations who are interested in increasing engagement on their Facebook posts. The primary goal of this project is to develop an algorithm capable of predicting whether a post will have high or low engagement/consumption based on their content. Such a predictive algorithm can greatly help the news stations preselect articles for their facebook feed and tune the content of the message to better engage their audience on facebook and increase the number of clicks on their website.\n",
    "\n",
    "To accomplish this goal, we had to answer several key questions\n",
    "\n",
    "- What are the suitable metrics for quantifying engagement and consumption on Facebook?\n",
    "- Can we classify facebook posts into different topics just based on the content of their messages?\n",
    "- Can we predict the degree of engagement or consumption just from on the content of their messages?\n",
    "- Can we draw crucial business insights that can increase engagement / consumption / revenue for the new stations?"
   ]
  },
  {
   "cell_type": "markdown",
   "metadata": {},
   "source": [
    "# Data"
   ]
  },
  {
   "cell_type": "markdown",
   "metadata": {},
   "source": [
    "To tackle this question, we used the facebook insights data consisting of all posts (~ 8000) made by a news station over the last 12 months. The data contains the following features\n",
    "\n",
    "- Time posted\n",
    "- Full text of the status message\n",
    "- Lifetime engagement, reach and post consumption for each post"
   ]
  },
  {
   "cell_type": "markdown",
   "metadata": {},
   "source": [
    "# Metrics"
   ]
  },
  {
   "cell_type": "markdown",
   "metadata": {},
   "source": [
    "Before we can build or develop features for a predictive model, it is important to be able to define a success metric for a Facebook post. While building a success metric, it is crucial to discuss between qualitative and quantitative metrics.\n",
    "\n",
    "- Engagement: Qualitative measure describing how users engage with content. In this work, we define it as the sum of likes, shares and comments on a post. These engagements creates 'stories' about the post.\n",
    "\n",
    "- Consumption: Quantitative measure describing how users consume the posts. In thi work, we define it as the number of link clicks which directly correlates with revenue for the company\n",
    "\n",
    "We also consider both engagement and link clicks normalized by 'reach' (which is the total number of people the post was shared to)\n",
    "\n",
    "- Engagement to reach ratio\n",
    "- link clicks to reach ratio\n",
    "\n",
    "\n",
    "\n",
    "\n",
    "\n",
    "Our analysis shows that "
   ]
  },
  {
   "cell_type": "code",
   "execution_count": null,
   "metadata": {
    "collapsed": true
   },
   "outputs": [],
   "source": []
  }
 ],
 "metadata": {
  "kernelspec": {
   "display_name": "Python 2",
   "language": "python",
   "name": "python2"
  },
  "language_info": {
   "codemirror_mode": {
    "name": "ipython",
    "version": 2
   },
   "file_extension": ".py",
   "mimetype": "text/x-python",
   "name": "python",
   "nbconvert_exporter": "python",
   "pygments_lexer": "ipython2",
   "version": "2.7.10"
  }
 },
 "nbformat": 4,
 "nbformat_minor": 0
}
